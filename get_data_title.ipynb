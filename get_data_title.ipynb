{
 "cells": [
  {
   "cell_type": "code",
   "execution_count": 11,
   "metadata": {},
   "outputs": [],
   "source": [
    "import os\r\n",
    "import numpy as np\r\n",
    "import pandas as pd\r\n",
    "import re\r\n",
    "from tqdm.notebook import tqdm\r\n",
    "import requests"
   ]
  },
  {
   "cell_type": "code",
   "execution_count": 12,
   "metadata": {},
   "outputs": [],
   "source": [
    "title_list=[]\r\n",
    "start=0"
   ]
  },
  {
   "cell_type": "code",
   "execution_count": 13,
   "metadata": {},
   "outputs": [
    {
     "data": {
      "application/vnd.jupyter.widget-view+json": {
       "model_id": "baf3123ada5f4b4b88986a75d4a7eb3a",
       "version_major": 2,
       "version_minor": 0
      },
      "text/plain": "  0%|          | 0/300 [00:00<?, ?it/s]"
     },
     "metadata": {},
     "output_type": "display_data"
    }
   ],
   "source": [
    "for i in tqdm(range(start,300),total=300):\r\n",
    "    tmp=requests.get(f'https://catalog.data.gov/api/3/action/package_search?rows=1000&start={i*1000}')\r\n",
    "    tmp_res=tmp.json()['result']['results']\r\n",
    "    if len(tmp_res) == 0:\r\n",
    "        break\r\n",
    "    title_list.extend([obj['title'] for obj in tmp_res if len(obj['resources'])>0])\r\n",
    "    start+=1"
   ]
  },
  {
   "cell_type": "code",
   "execution_count": 18,
   "metadata": {},
   "outputs": [
    {
     "data": {
      "text/plain": "dict_keys(['license_title', 'maintainer', 'relationships_as_object', 'private', 'maintainer_email', 'num_tags', 'id', 'metadata_created', 'metadata_modified', 'author', 'author_email', 'state', 'version', 'creator_user_id', 'type', 'resources', 'num_resources', 'tags', 'groups', 'license_id', 'relationships_as_subject', 'organization', 'name', 'isopen', 'url', 'notes', 'owner_org', 'extras', 'title', 'revision_id'])"
     },
     "execution_count": 18,
     "metadata": {},
     "output_type": "execute_result"
    }
   ],
   "source": [
    "tmp_res[0].keys()"
   ]
  },
  {
   "cell_type": "code",
   "execution_count": 14,
   "metadata": {},
   "outputs": [],
   "source": [
    "df=pd.DataFrame(zip(title_list,['']*len(title_list)),columns=['title','label']).drop('label',axis=1)\r\n",
    "df.drop_duplicates(inplace=True)"
   ]
  },
  {
   "cell_type": "code",
   "execution_count": 15,
   "metadata": {},
   "outputs": [],
   "source": [
    "df.to_csv('gov_data.csv',index=False)"
   ]
  }
 ],
 "metadata": {
  "language_info": {},
  "orig_nbformat": 3
 },
 "nbformat": 4,
 "nbformat_minor": 2
}